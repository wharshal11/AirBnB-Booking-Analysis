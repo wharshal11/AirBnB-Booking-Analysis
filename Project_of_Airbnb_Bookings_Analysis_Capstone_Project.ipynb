{
  "cells": [
    {
      "cell_type": "markdown",
      "metadata": {
        "id": "view-in-github",
        "colab_type": "text"
      },
      "source": [
        "<a href=\"https://colab.research.google.com/github/wharshal11/AirBnB-Booking-Analysis/blob/main/Project_of_Airbnb_Bookings_Analysis_Capstone_Project.ipynb\" target=\"_parent\"><img src=\"https://colab.research.google.com/assets/colab-badge.svg\" alt=\"Open In Colab\"/></a>"
      ]
    },
    {
      "cell_type": "markdown",
      "metadata": {
        "id": "Y06xIdG26kRF"
      },
      "source": [
        "## <b> Since 2008, guests and hosts have used Airbnb to expand on traveling possibilities and present a more unique, personalized way of experiencing the world. Today, Airbnb became one of a kind service that is used and recognized by the whole world. Data analysis on millions of listings provided through Airbnb is a crucial factor for the company. These millions of listings generate a lot of data - data that can be analyzed and used for security, business decisions, understanding of customers' and providers' (hosts) behavior and performance on the platform, guiding marketing initiatives, implementation of innovative additional services and much more. </b>\n",
        "\n",
        "## <b>This dataset has around 49,000 observations in it with 16 columns and it is a mix between categorical and numeric values. </b>\n",
        "\n",
        "## <b> Explore and analyze the data to discover key understandings (not limited to these) such as : \n",
        "* What can we learn about different hosts and areas?\n",
        "* What can we learn from predictions? (ex: locations, prices, reviews, etc)\n",
        "* Which hosts are the busiest and why?\n",
        "* Is there any noticeable difference of traffic among different areas and what could be the reason for it? </b>"
      ]
    },
    {
      "cell_type": "markdown",
      "metadata": {
        "id": "ZyURUs0-tI3x"
      },
      "source": [
        "Airbnb is an online marketplace that connects people who want to rent out their homes with people who are looking for accommodations in that locale.\n"
      ]
    },
    {
      "cell_type": "markdown",
      "metadata": {
        "id": "I-Igapdat9z2"
      },
      "source": [
        "\n",
        "\n",
        "# First import all required Packages for EDA"
      ]
    },
    {
      "cell_type": "code",
      "execution_count": null,
      "metadata": {
        "colab": {
          "background_save": true
        },
        "id": "Kt3_yBLguUt-"
      },
      "outputs": [],
      "source": [
        "import pandas as pd\n",
        "import numpy as np\n",
        "import numpy as np\n",
        "from matplotlib import pyplot as plt\n",
        "import seaborn as sns\n",
        "sns.set_style(\"whitegrid\",{'grid.linestyle': ''})\n",
        "sns.set(rc={'figure.figsize':(16.7,8.27)})"
      ]
    },
    {
      "cell_type": "markdown",
      "metadata": {
        "id": "_wsveguGvKWr"
      },
      "source": [
        "# Load the Data for Analysis"
      ]
    },
    {
      "cell_type": "code",
      "execution_count": 57,
      "metadata": {
        "id": "jUNYF14Evg8x",
        "colab": {
          "base_uri": "https://localhost:8080/"
        },
        "outputId": "d365c48f-4ccf-423f-ee16-cfe9e54e8bfc"
      },
      "outputs": [
        {
          "output_type": "stream",
          "name": "stdout",
          "text": [
            "Drive already mounted at /content/drive; to attempt to forcibly remount, call drive.mount(\"/content/drive\", force_remount=True).\n"
          ]
        }
      ],
      "source": [
        "# Mounting Drive\n",
        "from google.colab import drive\n",
        "drive.mount('/content/drive')"
      ]
    },
    {
      "cell_type": "code",
      "execution_count": null,
      "metadata": {
        "id": "p8WHV_B0vqQn"
      },
      "outputs": [],
      "source": [
        "df = pd.read_csv('/content/drive/MyDrive/Copy of Airbnb NYC 2019.csv')"
      ]
    },
    {
      "cell_type": "markdown",
      "metadata": {
        "id": "gezRQ0s1wqSN"
      },
      "source": [
        "# Dataset Inspection"
      ]
    },
    {
      "cell_type": "code",
      "execution_count": 70,
      "metadata": {
        "id": "V9Hq7OntwvKc",
        "colab": {
          "base_uri": "https://localhost:8080/",
          "height": 461
        },
        "outputId": "4ed8b691-0a08-48b6-8451-3c02107de795"
      },
      "outputs": [
        {
          "output_type": "execute_result",
          "data": {
            "text/html": [
              "\n",
              "  <div id=\"df-d052f190-21d4-48ce-8170-56bcb6ceeec9\">\n",
              "    <div class=\"colab-df-container\">\n",
              "      <div>\n",
              "<style scoped>\n",
              "    .dataframe tbody tr th:only-of-type {\n",
              "        vertical-align: middle;\n",
              "    }\n",
              "\n",
              "    .dataframe tbody tr th {\n",
              "        vertical-align: top;\n",
              "    }\n",
              "\n",
              "    .dataframe thead th {\n",
              "        text-align: right;\n",
              "    }\n",
              "</style>\n",
              "<table border=\"1\" class=\"dataframe\">\n",
              "  <thead>\n",
              "    <tr style=\"text-align: right;\">\n",
              "      <th></th>\n",
              "      <th>id</th>\n",
              "      <th>name</th>\n",
              "      <th>host_id</th>\n",
              "      <th>host_name</th>\n",
              "      <th>neighbourhood_group</th>\n",
              "      <th>neighbourhood</th>\n",
              "      <th>latitude</th>\n",
              "      <th>longitude</th>\n",
              "      <th>room_type</th>\n",
              "      <th>price</th>\n",
              "      <th>minimum_nights</th>\n",
              "      <th>number_of_reviews</th>\n",
              "      <th>last_review</th>\n",
              "      <th>reviews_per_month</th>\n",
              "      <th>calculated_host_listings_count</th>\n",
              "      <th>availability_365</th>\n",
              "    </tr>\n",
              "  </thead>\n",
              "  <tbody>\n",
              "    <tr>\n",
              "      <th>0</th>\n",
              "      <td>2539</td>\n",
              "      <td>Clean &amp; quiet apt home by the park</td>\n",
              "      <td>2787</td>\n",
              "      <td>John</td>\n",
              "      <td>Brooklyn</td>\n",
              "      <td>Kensington</td>\n",
              "      <td>40.64749</td>\n",
              "      <td>-73.97237</td>\n",
              "      <td>Private room</td>\n",
              "      <td>149</td>\n",
              "      <td>1</td>\n",
              "      <td>9</td>\n",
              "      <td>2018-10-19</td>\n",
              "      <td>0.21</td>\n",
              "      <td>6</td>\n",
              "      <td>365</td>\n",
              "    </tr>\n",
              "    <tr>\n",
              "      <th>1</th>\n",
              "      <td>2595</td>\n",
              "      <td>Skylit Midtown Castle</td>\n",
              "      <td>2845</td>\n",
              "      <td>Jennifer</td>\n",
              "      <td>Manhattan</td>\n",
              "      <td>Midtown</td>\n",
              "      <td>40.75362</td>\n",
              "      <td>-73.98377</td>\n",
              "      <td>Entire home/apt</td>\n",
              "      <td>225</td>\n",
              "      <td>1</td>\n",
              "      <td>45</td>\n",
              "      <td>2019-05-21</td>\n",
              "      <td>0.38</td>\n",
              "      <td>2</td>\n",
              "      <td>355</td>\n",
              "    </tr>\n",
              "    <tr>\n",
              "      <th>2</th>\n",
              "      <td>3647</td>\n",
              "      <td>THE VILLAGE OF HARLEM....NEW YORK !</td>\n",
              "      <td>4632</td>\n",
              "      <td>Elisabeth</td>\n",
              "      <td>Manhattan</td>\n",
              "      <td>Harlem</td>\n",
              "      <td>40.80902</td>\n",
              "      <td>-73.94190</td>\n",
              "      <td>Private room</td>\n",
              "      <td>150</td>\n",
              "      <td>3</td>\n",
              "      <td>0</td>\n",
              "      <td>NaN</td>\n",
              "      <td>NaN</td>\n",
              "      <td>1</td>\n",
              "      <td>365</td>\n",
              "    </tr>\n",
              "    <tr>\n",
              "      <th>3</th>\n",
              "      <td>3831</td>\n",
              "      <td>Cozy Entire Floor of Brownstone</td>\n",
              "      <td>4869</td>\n",
              "      <td>LisaRoxanne</td>\n",
              "      <td>Brooklyn</td>\n",
              "      <td>Clinton Hill</td>\n",
              "      <td>40.68514</td>\n",
              "      <td>-73.95976</td>\n",
              "      <td>Entire home/apt</td>\n",
              "      <td>89</td>\n",
              "      <td>1</td>\n",
              "      <td>270</td>\n",
              "      <td>2019-07-05</td>\n",
              "      <td>4.64</td>\n",
              "      <td>1</td>\n",
              "      <td>194</td>\n",
              "    </tr>\n",
              "    <tr>\n",
              "      <th>4</th>\n",
              "      <td>5022</td>\n",
              "      <td>Entire Apt: Spacious Studio/Loft by central park</td>\n",
              "      <td>7192</td>\n",
              "      <td>Laura</td>\n",
              "      <td>Manhattan</td>\n",
              "      <td>East Harlem</td>\n",
              "      <td>40.79851</td>\n",
              "      <td>-73.94399</td>\n",
              "      <td>Entire home/apt</td>\n",
              "      <td>80</td>\n",
              "      <td>10</td>\n",
              "      <td>9</td>\n",
              "      <td>2018-11-19</td>\n",
              "      <td>0.10</td>\n",
              "      <td>1</td>\n",
              "      <td>0</td>\n",
              "    </tr>\n",
              "  </tbody>\n",
              "</table>\n",
              "</div>\n",
              "      <button class=\"colab-df-convert\" onclick=\"convertToInteractive('df-d052f190-21d4-48ce-8170-56bcb6ceeec9')\"\n",
              "              title=\"Convert this dataframe to an interactive table.\"\n",
              "              style=\"display:none;\">\n",
              "        \n",
              "  <svg xmlns=\"http://www.w3.org/2000/svg\" height=\"24px\"viewBox=\"0 0 24 24\"\n",
              "       width=\"24px\">\n",
              "    <path d=\"M0 0h24v24H0V0z\" fill=\"none\"/>\n",
              "    <path d=\"M18.56 5.44l.94 2.06.94-2.06 2.06-.94-2.06-.94-.94-2.06-.94 2.06-2.06.94zm-11 1L8.5 8.5l.94-2.06 2.06-.94-2.06-.94L8.5 2.5l-.94 2.06-2.06.94zm10 10l.94 2.06.94-2.06 2.06-.94-2.06-.94-.94-2.06-.94 2.06-2.06.94z\"/><path d=\"M17.41 7.96l-1.37-1.37c-.4-.4-.92-.59-1.43-.59-.52 0-1.04.2-1.43.59L10.3 9.45l-7.72 7.72c-.78.78-.78 2.05 0 2.83L4 21.41c.39.39.9.59 1.41.59.51 0 1.02-.2 1.41-.59l7.78-7.78 2.81-2.81c.8-.78.8-2.07 0-2.86zM5.41 20L4 18.59l7.72-7.72 1.47 1.35L5.41 20z\"/>\n",
              "  </svg>\n",
              "      </button>\n",
              "      \n",
              "  <style>\n",
              "    .colab-df-container {\n",
              "      display:flex;\n",
              "      flex-wrap:wrap;\n",
              "      gap: 12px;\n",
              "    }\n",
              "\n",
              "    .colab-df-convert {\n",
              "      background-color: #E8F0FE;\n",
              "      border: none;\n",
              "      border-radius: 50%;\n",
              "      cursor: pointer;\n",
              "      display: none;\n",
              "      fill: #1967D2;\n",
              "      height: 32px;\n",
              "      padding: 0 0 0 0;\n",
              "      width: 32px;\n",
              "    }\n",
              "\n",
              "    .colab-df-convert:hover {\n",
              "      background-color: #E2EBFA;\n",
              "      box-shadow: 0px 1px 2px rgba(60, 64, 67, 0.3), 0px 1px 3px 1px rgba(60, 64, 67, 0.15);\n",
              "      fill: #174EA6;\n",
              "    }\n",
              "\n",
              "    [theme=dark] .colab-df-convert {\n",
              "      background-color: #3B4455;\n",
              "      fill: #D2E3FC;\n",
              "    }\n",
              "\n",
              "    [theme=dark] .colab-df-convert:hover {\n",
              "      background-color: #434B5C;\n",
              "      box-shadow: 0px 1px 3px 1px rgba(0, 0, 0, 0.15);\n",
              "      filter: drop-shadow(0px 1px 2px rgba(0, 0, 0, 0.3));\n",
              "      fill: #FFFFFF;\n",
              "    }\n",
              "  </style>\n",
              "\n",
              "      <script>\n",
              "        const buttonEl =\n",
              "          document.querySelector('#df-d052f190-21d4-48ce-8170-56bcb6ceeec9 button.colab-df-convert');\n",
              "        buttonEl.style.display =\n",
              "          google.colab.kernel.accessAllowed ? 'block' : 'none';\n",
              "\n",
              "        async function convertToInteractive(key) {\n",
              "          const element = document.querySelector('#df-d052f190-21d4-48ce-8170-56bcb6ceeec9');\n",
              "          const dataTable =\n",
              "            await google.colab.kernel.invokeFunction('convertToInteractive',\n",
              "                                                     [key], {});\n",
              "          if (!dataTable) return;\n",
              "\n",
              "          const docLinkHtml = 'Like what you see? Visit the ' +\n",
              "            '<a target=\"_blank\" href=https://colab.research.google.com/notebooks/data_table.ipynb>data table notebook</a>'\n",
              "            + ' to learn more about interactive tables.';\n",
              "          element.innerHTML = '';\n",
              "          dataTable['output_type'] = 'display_data';\n",
              "          await google.colab.output.renderOutput(dataTable, element);\n",
              "          const docLink = document.createElement('div');\n",
              "          docLink.innerHTML = docLinkHtml;\n",
              "          element.appendChild(docLink);\n",
              "        }\n",
              "      </script>\n",
              "    </div>\n",
              "  </div>\n",
              "  "
            ],
            "text/plain": [
              "     id  ... availability_365\n",
              "0  2539  ...              365\n",
              "1  2595  ...              355\n",
              "2  3647  ...              365\n",
              "3  3831  ...              194\n",
              "4  5022  ...                0\n",
              "\n",
              "[5 rows x 16 columns]"
            ]
          },
          "metadata": {},
          "execution_count": 70
        }
      ],
      "source": [
        "# # First Look\n",
        "df.head()"
      ]
    },
    {
      "cell_type": "code",
      "execution_count": 71,
      "metadata": {
        "id": "SJb5fbNszOno",
        "colab": {
          "base_uri": "https://localhost:8080/",
          "height": 513
        },
        "outputId": "ec9efdac-6794-4802-a168-b05e4f06ef16"
      },
      "outputs": [
        {
          "output_type": "execute_result",
          "data": {
            "text/html": [
              "\n",
              "  <div id=\"df-895e4bef-a043-4227-9a68-9ed997332678\">\n",
              "    <div class=\"colab-df-container\">\n",
              "      <div>\n",
              "<style scoped>\n",
              "    .dataframe tbody tr th:only-of-type {\n",
              "        vertical-align: middle;\n",
              "    }\n",
              "\n",
              "    .dataframe tbody tr th {\n",
              "        vertical-align: top;\n",
              "    }\n",
              "\n",
              "    .dataframe thead th {\n",
              "        text-align: right;\n",
              "    }\n",
              "</style>\n",
              "<table border=\"1\" class=\"dataframe\">\n",
              "  <thead>\n",
              "    <tr style=\"text-align: right;\">\n",
              "      <th></th>\n",
              "      <th>id</th>\n",
              "      <th>name</th>\n",
              "      <th>host_id</th>\n",
              "      <th>host_name</th>\n",
              "      <th>neighbourhood_group</th>\n",
              "      <th>neighbourhood</th>\n",
              "      <th>latitude</th>\n",
              "      <th>longitude</th>\n",
              "      <th>room_type</th>\n",
              "      <th>price</th>\n",
              "      <th>minimum_nights</th>\n",
              "      <th>number_of_reviews</th>\n",
              "      <th>last_review</th>\n",
              "      <th>reviews_per_month</th>\n",
              "      <th>calculated_host_listings_count</th>\n",
              "      <th>availability_365</th>\n",
              "    </tr>\n",
              "  </thead>\n",
              "  <tbody>\n",
              "    <tr>\n",
              "      <th>48890</th>\n",
              "      <td>36484665</td>\n",
              "      <td>Charming one bedroom - newly renovated rowhouse</td>\n",
              "      <td>8232441</td>\n",
              "      <td>Sabrina</td>\n",
              "      <td>Brooklyn</td>\n",
              "      <td>Bedford-Stuyvesant</td>\n",
              "      <td>40.67853</td>\n",
              "      <td>-73.94995</td>\n",
              "      <td>Private room</td>\n",
              "      <td>70</td>\n",
              "      <td>2</td>\n",
              "      <td>0</td>\n",
              "      <td>NaN</td>\n",
              "      <td>NaN</td>\n",
              "      <td>2</td>\n",
              "      <td>9</td>\n",
              "    </tr>\n",
              "    <tr>\n",
              "      <th>48891</th>\n",
              "      <td>36485057</td>\n",
              "      <td>Affordable room in Bushwick/East Williamsburg</td>\n",
              "      <td>6570630</td>\n",
              "      <td>Marisol</td>\n",
              "      <td>Brooklyn</td>\n",
              "      <td>Bushwick</td>\n",
              "      <td>40.70184</td>\n",
              "      <td>-73.93317</td>\n",
              "      <td>Private room</td>\n",
              "      <td>40</td>\n",
              "      <td>4</td>\n",
              "      <td>0</td>\n",
              "      <td>NaN</td>\n",
              "      <td>NaN</td>\n",
              "      <td>2</td>\n",
              "      <td>36</td>\n",
              "    </tr>\n",
              "    <tr>\n",
              "      <th>48892</th>\n",
              "      <td>36485431</td>\n",
              "      <td>Sunny Studio at Historical Neighborhood</td>\n",
              "      <td>23492952</td>\n",
              "      <td>Ilgar &amp; Aysel</td>\n",
              "      <td>Manhattan</td>\n",
              "      <td>Harlem</td>\n",
              "      <td>40.81475</td>\n",
              "      <td>-73.94867</td>\n",
              "      <td>Entire home/apt</td>\n",
              "      <td>115</td>\n",
              "      <td>10</td>\n",
              "      <td>0</td>\n",
              "      <td>NaN</td>\n",
              "      <td>NaN</td>\n",
              "      <td>1</td>\n",
              "      <td>27</td>\n",
              "    </tr>\n",
              "    <tr>\n",
              "      <th>48893</th>\n",
              "      <td>36485609</td>\n",
              "      <td>43rd St. Time Square-cozy single bed</td>\n",
              "      <td>30985759</td>\n",
              "      <td>Taz</td>\n",
              "      <td>Manhattan</td>\n",
              "      <td>Hell's Kitchen</td>\n",
              "      <td>40.75751</td>\n",
              "      <td>-73.99112</td>\n",
              "      <td>Shared room</td>\n",
              "      <td>55</td>\n",
              "      <td>1</td>\n",
              "      <td>0</td>\n",
              "      <td>NaN</td>\n",
              "      <td>NaN</td>\n",
              "      <td>6</td>\n",
              "      <td>2</td>\n",
              "    </tr>\n",
              "    <tr>\n",
              "      <th>48894</th>\n",
              "      <td>36487245</td>\n",
              "      <td>Trendy duplex in the very heart of Hell's Kitchen</td>\n",
              "      <td>68119814</td>\n",
              "      <td>Christophe</td>\n",
              "      <td>Manhattan</td>\n",
              "      <td>Hell's Kitchen</td>\n",
              "      <td>40.76404</td>\n",
              "      <td>-73.98933</td>\n",
              "      <td>Private room</td>\n",
              "      <td>90</td>\n",
              "      <td>7</td>\n",
              "      <td>0</td>\n",
              "      <td>NaN</td>\n",
              "      <td>NaN</td>\n",
              "      <td>1</td>\n",
              "      <td>23</td>\n",
              "    </tr>\n",
              "  </tbody>\n",
              "</table>\n",
              "</div>\n",
              "      <button class=\"colab-df-convert\" onclick=\"convertToInteractive('df-895e4bef-a043-4227-9a68-9ed997332678')\"\n",
              "              title=\"Convert this dataframe to an interactive table.\"\n",
              "              style=\"display:none;\">\n",
              "        \n",
              "  <svg xmlns=\"http://www.w3.org/2000/svg\" height=\"24px\"viewBox=\"0 0 24 24\"\n",
              "       width=\"24px\">\n",
              "    <path d=\"M0 0h24v24H0V0z\" fill=\"none\"/>\n",
              "    <path d=\"M18.56 5.44l.94 2.06.94-2.06 2.06-.94-2.06-.94-.94-2.06-.94 2.06-2.06.94zm-11 1L8.5 8.5l.94-2.06 2.06-.94-2.06-.94L8.5 2.5l-.94 2.06-2.06.94zm10 10l.94 2.06.94-2.06 2.06-.94-2.06-.94-.94-2.06-.94 2.06-2.06.94z\"/><path d=\"M17.41 7.96l-1.37-1.37c-.4-.4-.92-.59-1.43-.59-.52 0-1.04.2-1.43.59L10.3 9.45l-7.72 7.72c-.78.78-.78 2.05 0 2.83L4 21.41c.39.39.9.59 1.41.59.51 0 1.02-.2 1.41-.59l7.78-7.78 2.81-2.81c.8-.78.8-2.07 0-2.86zM5.41 20L4 18.59l7.72-7.72 1.47 1.35L5.41 20z\"/>\n",
              "  </svg>\n",
              "      </button>\n",
              "      \n",
              "  <style>\n",
              "    .colab-df-container {\n",
              "      display:flex;\n",
              "      flex-wrap:wrap;\n",
              "      gap: 12px;\n",
              "    }\n",
              "\n",
              "    .colab-df-convert {\n",
              "      background-color: #E8F0FE;\n",
              "      border: none;\n",
              "      border-radius: 50%;\n",
              "      cursor: pointer;\n",
              "      display: none;\n",
              "      fill: #1967D2;\n",
              "      height: 32px;\n",
              "      padding: 0 0 0 0;\n",
              "      width: 32px;\n",
              "    }\n",
              "\n",
              "    .colab-df-convert:hover {\n",
              "      background-color: #E2EBFA;\n",
              "      box-shadow: 0px 1px 2px rgba(60, 64, 67, 0.3), 0px 1px 3px 1px rgba(60, 64, 67, 0.15);\n",
              "      fill: #174EA6;\n",
              "    }\n",
              "\n",
              "    [theme=dark] .colab-df-convert {\n",
              "      background-color: #3B4455;\n",
              "      fill: #D2E3FC;\n",
              "    }\n",
              "\n",
              "    [theme=dark] .colab-df-convert:hover {\n",
              "      background-color: #434B5C;\n",
              "      box-shadow: 0px 1px 3px 1px rgba(0, 0, 0, 0.15);\n",
              "      filter: drop-shadow(0px 1px 2px rgba(0, 0, 0, 0.3));\n",
              "      fill: #FFFFFF;\n",
              "    }\n",
              "  </style>\n",
              "\n",
              "      <script>\n",
              "        const buttonEl =\n",
              "          document.querySelector('#df-895e4bef-a043-4227-9a68-9ed997332678 button.colab-df-convert');\n",
              "        buttonEl.style.display =\n",
              "          google.colab.kernel.accessAllowed ? 'block' : 'none';\n",
              "\n",
              "        async function convertToInteractive(key) {\n",
              "          const element = document.querySelector('#df-895e4bef-a043-4227-9a68-9ed997332678');\n",
              "          const dataTable =\n",
              "            await google.colab.kernel.invokeFunction('convertToInteractive',\n",
              "                                                     [key], {});\n",
              "          if (!dataTable) return;\n",
              "\n",
              "          const docLinkHtml = 'Like what you see? Visit the ' +\n",
              "            '<a target=\"_blank\" href=https://colab.research.google.com/notebooks/data_table.ipynb>data table notebook</a>'\n",
              "            + ' to learn more about interactive tables.';\n",
              "          element.innerHTML = '';\n",
              "          dataTable['output_type'] = 'display_data';\n",
              "          await google.colab.output.renderOutput(dataTable, element);\n",
              "          const docLink = document.createElement('div');\n",
              "          docLink.innerHTML = docLinkHtml;\n",
              "          element.appendChild(docLink);\n",
              "        }\n",
              "      </script>\n",
              "    </div>\n",
              "  </div>\n",
              "  "
            ],
            "text/plain": [
              "             id  ... availability_365\n",
              "48890  36484665  ...                9\n",
              "48891  36485057  ...               36\n",
              "48892  36485431  ...               27\n",
              "48893  36485609  ...                2\n",
              "48894  36487245  ...               23\n",
              "\n",
              "[5 rows x 16 columns]"
            ]
          },
          "metadata": {},
          "execution_count": 71
        }
      ],
      "source": [
        "df.tail()"
      ]
    },
    {
      "cell_type": "code",
      "execution_count": null,
      "metadata": {
        "id": "cXjt9JgevRxr"
      },
      "outputs": [],
      "source": [
        "# Missing Value Count Function\n",
        "def show_missing():\n",
        "    missing = df.columns[df.isnull().any()].tolist()\n",
        "    return missing\n",
        "\n",
        "# Missing data counts and percentage\n",
        "print('Missing Data Count')\n",
        "print(df[show_missing()].isnull().sum().sort_values(ascending = False))\n",
        "print('--'*50)\n",
        "print('Missing Data Percentage')\n",
        "print(round(df[show_missing()].isnull().sum().sort_values(ascending = False)/len(df)*100,2))"
      ]
    },
    {
      "cell_type": "markdown",
      "metadata": {
        "id": "_kS7CNXNxOqN"
      },
      "source": [
        "\n",
        "# Dataset Information"
      ]
    },
    {
      "cell_type": "code",
      "execution_count": null,
      "metadata": {
        "id": "8T-3oIbhwGfj"
      },
      "outputs": [],
      "source": [
        "df.info()"
      ]
    },
    {
      "cell_type": "code",
      "execution_count": null,
      "metadata": {
        "id": "TPnUDsk0wDrc"
      },
      "outputs": [],
      "source": [
        "# Visualization of NaN Values with the help of HeatMap\n",
        "sns.heatmap(df.isnull(),yticklabels= False,cbar = False , cmap='viridis')"
      ]
    },
    {
      "cell_type": "markdown",
      "metadata": {
        "id": "hD-aNr9hwXrI"
      },
      "source": [
        "By looking info of data and HeatMap. we can see number of things.\n",
        "\n",
        "1.There are NaN value present in dataset.\n",
        "\n",
        "2.Most number of NaN value present in last_review and 'review per_month' column\n",
        "\n",
        "3.Dataset divided into numerical and catogorical datatype.\n",
        "\n",
        "4.48895 rows and 16 colums"
      ]
    },
    {
      "cell_type": "markdown",
      "metadata": {
        "id": "mNG-8B_GzTUm"
      },
      "source": [
        "# Univariant analysis of Features"
      ]
    },
    {
      "cell_type": "code",
      "execution_count": null,
      "metadata": {
        "id": "F0gWHcxZza87"
      },
      "outputs": [],
      "source": [
        "airbnb_df_with_na = df.copy()"
      ]
    },
    {
      "cell_type": "markdown",
      "metadata": {
        "id": "NLzfsm10zyLL"
      },
      "source": [
        "# Column 1-name; column 2-host_id; column 3-host_name\n",
        "\n"
      ]
    },
    {
      "cell_type": "code",
      "execution_count": null,
      "metadata": {
        "id": "EOyhbzaozpOV"
      },
      "outputs": [],
      "source": [
        "# column 1 contain the name of the property which the host is giving on rent by which he can draw the customer's attention\n",
        "print(f'There are total of {df.name.nunique()} unique property' )"
      ]
    },
    {
      "cell_type": "code",
      "execution_count": null,
      "metadata": {
        "id": "slUurpa60X64"
      },
      "outputs": [],
      "source": [
        "# column 2 contain Host ID\n",
        "print(f'There are total of {df.host_id.nunique()} unique host ID' )"
      ]
    },
    {
      "cell_type": "code",
      "execution_count": null,
      "metadata": {
        "id": "7Q3N4n2b48X2"
      },
      "outputs": [],
      "source": [
        "# column 3 contain Host Name\n",
        "print(f'There are total of {df.host_name.nunique()} unique host name' )"
      ]
    },
    {
      "cell_type": "markdown",
      "metadata": {
        "id": "GS4sMyGk5b0R"
      },
      "source": [
        "Observations\n",
        "\n",
        "\n",
        "\n",
        "1.  Column 3 contains all the unique names of hosts. We observe in all 11452 different hosts names in this database. \n",
        "2.  By comparing the unique numbers of host and host ID it can be concluded that there are many hosts with the same name.\n",
        "3. So we will use host id for all further analysis."
      ]
    },
    {
      "cell_type": "markdown",
      "metadata": {
        "id": "oJR_igfoOpkr"
      },
      "source": [
        "# Column 4-**neighbourhood_group**"
      ]
    },
    {
      "cell_type": "code",
      "execution_count": null,
      "metadata": {
        "id": "nLavmH8aPCp6"
      },
      "outputs": [],
      "source": [
        "# Unique Neighbourhood\n",
        "df.neighbourhood_group.unique()"
      ]
    },
    {
      "cell_type": "markdown",
      "metadata": {
        "id": "BhaTsZqePXzm"
      },
      "source": [
        "There are total of 5 neighbour area.\n",
        "By ploting the countplot we can see which neighbour area has most number of rooms."
      ]
    },
    {
      "cell_type": "code",
      "execution_count": null,
      "metadata": {
        "id": "OkaFSsBLRN97"
      },
      "outputs": [],
      "source": [
        "# Creating the Countplot\n",
        "plt.figure(figsize=(12,8))\n",
        "sns.countplot(df.neighbourhood_group, saturation=0.75)\n",
        "plt.title('Number of apartments in each neighbourhood group')\n",
        "plt.ylabel('No of properties')\n",
        "plt.xlabel('Neighbourhood group')\n",
        "plt.show()"
      ]
    },
    {
      "cell_type": "markdown",
      "metadata": {
        "id": "QSIQYS0NWVLT"
      },
      "source": [
        "we can see that **Manhatten** has most of the rooms followed by **Brooklyn** and **Queens**"
      ]
    },
    {
      "cell_type": "markdown",
      "metadata": {
        "id": "OHRHW0xOUwxJ"
      },
      "source": [
        "# Column 5-**neighbourhood**"
      ]
    },
    {
      "cell_type": "code",
      "execution_count": null,
      "metadata": {
        "id": "I0lMEl9BU40v"
      },
      "outputs": [],
      "source": [
        "print(f'There are total of {df.neighbourhood.nunique()} unique nieghbourhood' )"
      ]
    },
    {
      "cell_type": "code",
      "execution_count": null,
      "metadata": {
        "id": "dEUVdLqBTyNb"
      },
      "outputs": [],
      "source": [
        "#creating a count plot for top 20 neighbourhood\n",
        "sns.countplot(df.neighbourhood, order = df.neighbourhood.value_counts().iloc[:20].index ).set_title('Top 20 neighbourhood with max no of rooms')\n",
        "#rotating the x axis labels \n",
        "plt.xticks(rotation=30,ha='right')\n",
        "#adding x and y labels to the plot\n",
        "plt.ylabel('No of rooms')\n",
        "plt.figure(figsize=(16.7,8.27)) \n",
        "plt.show()"
      ]
    },
    {
      "cell_type": "code",
      "execution_count": null,
      "metadata": {
        "id": "0cROBhMuVW4k"
      },
      "outputs": [],
      "source": [
        "#storing the different neighbourhood to their respective neighbourhood_groups\n",
        "Brooklyn_group=df.loc[df['neighbourhood_group']== 'Brooklyn']\n",
        "Manhattan_group=df.loc[df['neighbourhood_group']== 'Manhattan']\n",
        "Queens_group=df.loc[df['neighbourhood_group']== 'Queens']\n",
        "Staten_Island_group=df.loc[df['neighbourhood_group']== 'Staten Island']\n",
        "Bronx_group=df.loc[df['neighbourhood_group']== 'Bronx']"
      ]
    },
    {
      "cell_type": "code",
      "execution_count": null,
      "metadata": {
        "id": "m9bDemiiWcx2"
      },
      "outputs": [],
      "source": [
        "# top 10 areas in Brooklyn with most booking\n",
        "#creating a count plot\n",
        "sns.countplot(y=\"neighbourhood\", data=Brooklyn_group, palette=\"Greens_d\",\n",
        "              order=Brooklyn_group.neighbourhood.value_counts().iloc[:10].index).set_title('top 10 Brooklyn neighbourhood value count')\n",
        "#adding x and y labels to the plot\n",
        "plt.xlabel('No of rooms')"
      ]
    },
    {
      "cell_type": "code",
      "execution_count": null,
      "metadata": {
        "id": "9Ec6LoBQXB-y"
      },
      "outputs": [],
      "source": [
        "# top 10 areas in Manhattan with most booking\n",
        "#creating a count plot\n",
        "sns.countplot(y=\"neighbourhood\", data=Manhattan_group, palette=\"Greens_d\",\n",
        "              order=Manhattan_group.neighbourhood.value_counts().iloc[:10].index).set_title('top 10 Manhattan neighbourhood value count')\n",
        "#adding x and y labels to the plot\n",
        "plt.xlabel('No of rooms')"
      ]
    },
    {
      "cell_type": "code",
      "execution_count": null,
      "metadata": {
        "id": "b_opzV3JXy7A"
      },
      "outputs": [],
      "source": [
        "# top 10 areas in Queens with most booking\n",
        "#creating a count plot\n",
        "\n",
        "sns.countplot(y=\"neighbourhood\", data=Queens_group, palette=\"Greens_d\",\n",
        "              order=Queens_group.neighbourhood.value_counts().iloc[:10].index).set_title('top 10 Queens neighbourhood value count')\n",
        "#adding x and y labels to the plot\n",
        "plt.xlabel('No of rooms')"
      ]
    },
    {
      "cell_type": "code",
      "execution_count": null,
      "metadata": {
        "id": "P2GOVISXX9pf"
      },
      "outputs": [],
      "source": [
        "# top 10 areas in Staten_Island with most booking\n",
        "#creating a count plot\n",
        "\n",
        "sns.countplot(y=\"neighbourhood\", data=Staten_Island_group, palette=\"Greens_d\",\n",
        "              order=Staten_Island_group.neighbourhood.value_counts().iloc[:10].index).set_title('top 10 Staten_Island neighbourhood value count')\n",
        "\n",
        "#adding x and y labels to the plot\n",
        "plt.xlabel('No of rooms')"
      ]
    },
    {
      "cell_type": "code",
      "execution_count": null,
      "metadata": {
        "id": "lXn_Mv5zYAi_"
      },
      "outputs": [],
      "source": [
        "# top 10 areas in Staten_Island with most booking\n",
        "#creating a count plot\n",
        "sns.countplot(y=\"neighbourhood\", data=Bronx_group, palette=\"Greens_d\",\n",
        "              order=Bronx_group.neighbourhood.value_counts().iloc[:10].index).set_title('top 10 Bronx neighbourhood value count')\n",
        "\n",
        "#adding x and y labels to the plot\n",
        "plt.xlabel('No of rooms')             "
      ]
    },
    {
      "cell_type": "code",
      "execution_count": null,
      "metadata": {
        "id": "wkGW5aS2YLUs"
      },
      "outputs": [],
      "source": [
        "# creating subplots to plot all the graphs together \n",
        "fig, axes = plt.subplots(3,2, figsize=(30, 20))\n",
        "sns.countplot(ax=axes[0,0],y=\"neighbourhood\", data=Brooklyn_group, palette=\"PuBuGn\",\n",
        "              order=Brooklyn_group.neighbourhood.value_counts().iloc[:10].index).set_title('top 10 brooklyn neighbourhood value count')\n",
        "              \n",
        "sns.countplot(ax=axes[0,1],y=\"neighbourhood\", data=Manhattan_group, palette=\"Blues\",\n",
        "              order=Manhattan_group.neighbourhood.value_counts().iloc[:10].index).set_title('top 10 manhattan neighbourhood value count')\n",
        "\n",
        "sns.countplot(ax=axes[1,0],y=\"neighbourhood\", data=Queens_group, palette=\"Greens_d\",\n",
        "              order=Queens_group.neighbourhood.value_counts().iloc[:10].index).set_title('top 10 Queens neighbourhood value count')\n",
        "\n",
        "sns.countplot(ax=axes[1,1],y=\"neighbourhood\", data=Staten_Island_group, palette=\"BrBG\",\n",
        "              order=Staten_Island_group.neighbourhood.value_counts().iloc[:10].index).set_title('top 10 Staten_Island neighbourhood value count')\n",
        "\n",
        "sns.countplot(ax=axes[2,0],y=\"neighbourhood\", data=Bronx_group, palette=\"BuPu\",\n",
        "              order=Bronx_group.neighbourhood.value_counts().iloc[:10].index).set_title('top 10 Bronx neighbourhood value count')"
      ]
    },
    {
      "cell_type": "markdown",
      "metadata": {
        "id": "ZpZ8bMPjY0oZ"
      },
      "source": [
        "Observations\n",
        "1. willamsburg, bedford and bushwick have most no of bookings in brooklyn neighbourhood_group\n",
        "2. Harlem, Upper West Side and Hell's Kitchen have most no of bookings in manhattan neighbourhood_group\n",
        "3. astoria, flushing and long island city  have most no of bookings in Queens neighbourhood_group\n",
        "4. tompkinsville, St.George, cancaord ave most no of bookings in Staten_Island neighbourhood_group\n",
        "5. in bronx neighbourhood_group all the neighbourhood have almost equal no of bookings"
      ]
    },
    {
      "cell_type": "markdown",
      "metadata": {
        "id": "eom1ae9uoczL"
      },
      "source": [
        "# Column 6-**Latitude** & Column 7-**Longitude**"
      ]
    },
    {
      "cell_type": "code",
      "execution_count": null,
      "metadata": {
        "id": "IhJcUBfxqKBB"
      },
      "outputs": [],
      "source": [
        "df.latitude.describe()"
      ]
    },
    {
      "cell_type": "code",
      "execution_count": null,
      "metadata": {
        "id": "Y67oxlxKqOE-"
      },
      "outputs": [],
      "source": [
        "df.longitude.describe()"
      ]
    },
    {
      "cell_type": "markdown",
      "metadata": {
        "id": "NouM27c3sM3Z"
      },
      "source": [
        "![map.png](data:image/png;base64,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)"
      ]
    },
    {
      "cell_type": "code",
      "execution_count": null,
      "metadata": {
        "id": "61W7mMBKqSZY"
      },
      "outputs": [],
      "source": [
        "# Pointing the latitude and longitude on graph through scattering plot\n",
        "plt.figure(figsize=(10,8))\n",
        "sns.scatterplot(df.latitude,df.longitude, hue='neighbourhood_group', data=df)"
      ]
    },
    {
      "cell_type": "code",
      "execution_count": null,
      "metadata": {
        "id": "oUUQYN6crFL9"
      },
      "outputs": [],
      "source": [
        "# Importing image of Map \n",
        "import urllib\n",
        "# setting  figure size\n",
        "plt.figure(figsize=(10,8))\n",
        "# setting  background map image in graph\n",
        "img=urllib.request.urlopen('https://upload.wikimedia.org/wikipedia/commons/e/ec/Neighbourhoods_New_York_City_Map.PNG')\n",
        "image=plt.imread(img)\n",
        "plt.imshow(image,zorder=0,extent=[-74.258, -73.7, 40.488, 40.92])\n",
        "sns.scatterplot(data = df,x='longitude',y='latitude',hue='neighbourhood_group').set_title('Density of rooms')"
      ]
    },
    {
      "cell_type": "markdown",
      "metadata": {
        "id": "X-LzCSdRsaND"
      },
      "source": [
        "# Column 8-room type\n"
      ]
    },
    {
      "cell_type": "code",
      "execution_count": null,
      "metadata": {
        "id": "V47s_wngs1hU"
      },
      "outputs": [],
      "source": [
        "# Number of room type provided by the hosts\n",
        "sns.countplot(df.room_type)"
      ]
    },
    {
      "cell_type": "code",
      "execution_count": null,
      "metadata": {
        "id": "-dn2ec13tPBB"
      },
      "outputs": [],
      "source": [
        "print(df.room_type.value_counts())"
      ]
    },
    {
      "cell_type": "code",
      "execution_count": null,
      "metadata": {
        "id": "bUj-0kXhuUKH"
      },
      "outputs": [],
      "source": [
        "# creating subplots to plot all the graphs together for properties booked in different neighbourhood groups\n",
        "fig, axes = plt.subplots(3,2, figsize=(30, 20))\n",
        "sns.countplot(ax=axes[0,0],x=\"room_type\", data=Brooklyn_group, palette=\"PuBuGn\",\n",
        "              order=Brooklyn_group.room_type.value_counts().iloc[:3].index).set_title('Property booked in brooklyn neighbourhood')\n",
        "              \n",
        "sns.countplot(ax=axes[0,1],x=\"room_type\", data=Manhattan_group, palette=\"Blues\",\n",
        "              order=Manhattan_group.room_type.value_counts().iloc[:3].index).set_title('Property booked in manhattan neighbourhood')\n",
        "\n",
        "sns.countplot(ax=axes[1,0],x=\"room_type\", data=Queens_group, palette=\"Greens_d\",\n",
        "              order=Queens_group.room_type.value_counts().iloc[:3].index).set_title('Property booked in Queens neighbourhood')\n",
        "\n",
        "sns.countplot(ax=axes[1,1],x=\"room_type\", data=Staten_Island_group, palette=\"BrBG\",\n",
        "              order=Staten_Island_group.room_type.value_counts().iloc[:3].index).set_title('Property booked in Staten_Island')\n",
        "\n",
        "sns.countplot(ax=axes[2,0],x=\"room_type\", data=Bronx_group, palette=\"BuPu\",\n",
        "              order=Bronx_group.room_type.value_counts().iloc[:3].index).set_title('Property booked in Bronx neighbourhood')"
      ]
    },
    {
      "cell_type": "markdown",
      "metadata": {
        "id": "G7S5KB9LvYaV"
      },
      "source": [
        "## From the above graphs we can see that;\n",
        "There are 3 types of room provided by the host in 5 neighbourhood group. \n",
        "\n",
        "\n",
        "Entire home/apt = 25409\n",
        "\n",
        "Private room    = 22326\n",
        "\n",
        "Shared room     = 1160\n",
        "\n",
        "In Brooklyn and Staten_Island neighbourhood group customer prefer both private room and entire home/apt over shared rooms.\n",
        "\n",
        "Whereas the Private rooms booked in Queens and Bronx neighbourhood group is higher than the Entire home/apt room type.\n",
        "\n",
        "And in Manhattan neighbourhood group most of the customer prefer Entire home/apt over Private rooms.\n",
        "\n",
        "In all the 5 neighbourhood group, Shared rooms have very low weighted."
      ]
    },
    {
      "cell_type": "markdown",
      "metadata": {
        "id": "dCsssxXG9onW"
      },
      "source": [
        "# Column 9-**price**"
      ]
    },
    {
      "cell_type": "code",
      "source": [
        "sns.barplot(x='room_type',y='price',data=Brooklyn_group)"
      ],
      "metadata": {
        "colab": {
          "base_uri": "https://localhost:8080/",
          "height": 535
        },
        "id": "Zg9XX-MfjSfC",
        "outputId": "d55a549f-eddc-418e-96f5-15c80f953b7e"
      },
      "execution_count": 65,
      "outputs": [
        {
          "output_type": "execute_result",
          "data": {
            "text/plain": [
              "<matplotlib.axes._subplots.AxesSubplot at 0x7f45d519bf10>"
            ]
          },
          "metadata": {},
          "execution_count": 65
        },
        {
          "output_type": "display_data",
          "data": {
            "image/png": "[encoded data removed]",
            "text/plain": [
              "<Figure size 1202.4x595.44 with 1 Axes>"
            ]
          },
          "metadata": {}
        }
      ]
    },
    {
      "cell_type": "code",
      "source": [
        "sns.barplot(x='room_type',y='price',data=Manhattan_group)"
      ],
      "metadata": {
        "colab": {
          "base_uri": "https://localhost:8080/",
          "height": 535
        },
        "id": "tbSvtblykaqo",
        "outputId": "71912ecd-592c-4203-e97b-959f029656e9"
      },
      "execution_count": 66,
      "outputs": [
        {
          "output_type": "execute_result",
          "data": {
            "text/plain": [
              "<matplotlib.axes._subplots.AxesSubplot at 0x7f45d4e218d0>"
            ]
          },
          "metadata": {},
          "execution_count": 66
        },
        {
          "output_type": "display_data",
          "data": {
            "image/png": "[encoded data removed]",
            "text/plain": [
              "<Figure size 1202.4x595.44 with 1 Axes>"
            ]
          },
          "metadata": {}
        }
      ]
    },
    {
      "cell_type": "code",
      "source": [
        "sns.barplot(x='room_type',y='price',data=Queens_group)"
      ],
      "metadata": {
        "colab": {
          "base_uri": "https://localhost:8080/",
          "height": 538
        },
        "id": "ulMzDXNyjgDT",
        "outputId": "f2622066-68b1-43aa-f523-972250689b31"
      },
      "execution_count": 67,
      "outputs": [
        {
          "output_type": "execute_result",
          "data": {
            "text/plain": [
              "<matplotlib.axes._subplots.AxesSubplot at 0x7f45d4d31b90>"
            ]
          },
          "metadata": {},
          "execution_count": 67
        },
        {
          "output_type": "display_data",
          "data": {
            "image/png": "[encoded data removed]",
            "text/plain": [
              "<Figure size 1202.4x595.44 with 1 Axes>"
            ]
          },
          "metadata": {}
        }
      ]
    },
    {
      "cell_type": "code",
      "source": [
        "sns.barplot(x='room_type',y='price',data=Staten_Island_group)"
      ],
      "metadata": {
        "colab": {
          "base_uri": "https://localhost:8080/",
          "height": 535
        },
        "id": "B_d_WupEkffp",
        "outputId": "c8d54b70-516b-4658-977c-cf8803741903"
      },
      "execution_count": 68,
      "outputs": [
        {
          "output_type": "execute_result",
          "data": {
            "text/plain": [
              "<matplotlib.axes._subplots.AxesSubplot at 0x7f45cfc6ab50>"
            ]
          },
          "metadata": {},
          "execution_count": 68
        },
        {
          "output_type": "display_data",
          "data": {
            "image/png": "[encoded data removed]",
            "text/plain": [
              "<Figure size 1202.4x595.44 with 1 Axes>"
            ]
          },
          "metadata": {}
        }
      ]
    },
    {
      "cell_type": "code",
      "source": [
        "sns.barplot(x='room_type',y='price',data=Bronx_group)"
      ],
      "metadata": {
        "colab": {
          "base_uri": "https://localhost:8080/",
          "height": 535
        },
        "id": "fgYrP3HJkjmV",
        "outputId": "565f5b67-a609-409e-c66f-015ed5d4c8f2"
      },
      "execution_count": 74,
      "outputs": [
        {
          "output_type": "execute_result",
          "data": {
            "text/plain": [
              "<matplotlib.axes._subplots.AxesSubplot at 0x7f45d314d1d0>"
            ]
          },
          "metadata": {},
          "execution_count": 74
        },
        {
          "output_type": "display_data",
          "data": {
            "image/png": "[encoded data removed]",
            "text/plain": [
              "<Figure size 1202.4x595.44 with 1 Axes>"
            ]
          },
          "metadata": {}
        }
      ]
    },
    {
      "cell_type": "code",
      "source": [
        ""
      ],
      "metadata": {
        "id": "SsijY8-8kmhA"
      },
      "execution_count": null,
      "outputs": []
    }
  ],
  "metadata": {
    "colab": {
      "collapsed_sections": [],
      "name": "Project of Airbnb Bookings Analysis - Capstone Project.ipynb",
      "provenance": [],
      "include_colab_link": true
    },
    "kernelspec": {
      "display_name": "Python 3",
      "language": "python",
      "name": "python3"
    },
    "language_info": {
      "codemirror_mode": {
        "name": "ipython",
        "version": 3
      },
      "file_extension": ".py",
      "mimetype": "text/x-python",
      "name": "python",
      "nbconvert_exporter": "python",
      "pygments_lexer": "ipython3",
      "version": "3.6.6"
    }
  },
  "nbformat": 4,
  "nbformat_minor": 0
}